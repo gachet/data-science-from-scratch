{
 "cells": [
  {
   "cell_type": "markdown",
   "metadata": {},
   "source": [
    "p 76 - Building a histogram\n",
    "\n",
    "`Counter` is called, but is not previously imported"
   ]
  },
  {
   "cell_type": "markdown",
   "metadata": {},
   "source": [
    "p 88 -- reduce and partial were removed in python3, part of `functools` now\n",
    "http://stackoverflow.com/questions/13638898/how-to-use-filter-map-and-reduce-in-python-3-3-0"
   ]
  },
  {
   "cell_type": "code",
   "execution_count": null,
   "metadata": {
    "collapsed": true
   },
   "outputs": [],
   "source": []
  }
 ],
 "metadata": {
  "kernelspec": {
   "display_name": "Python 3",
   "language": "python",
   "name": "python3"
  },
  "language_info": {
   "codemirror_mode": {
    "name": "ipython",
    "version": 3
   },
   "file_extension": ".py",
   "mimetype": "text/x-python",
   "name": "python",
   "nbconvert_exporter": "python",
   "pygments_lexer": "ipython3",
   "version": "3.4.3"
  }
 },
 "nbformat": 4,
 "nbformat_minor": 0
}
